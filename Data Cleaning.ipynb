{
 "cells": [
  {
   "cell_type": "code",
   "execution_count": 206,
   "id": "7b7bc1db",
   "metadata": {},
   "outputs": [],
   "source": [
    "import pandas as pd"
   ]
  },
  {
   "cell_type": "code",
   "execution_count": 207,
   "id": "d83433db",
   "metadata": {},
   "outputs": [],
   "source": [
    "data = pd.read_csv('delhi_houses.csv')"
   ]
  },
  {
   "cell_type": "code",
   "execution_count": 208,
   "id": "72cf762e",
   "metadata": {},
   "outputs": [
    {
     "data": {
      "text/plain": [
       "3                   714\n",
       "4                   289\n",
       "2                   271\n",
       "1                    54\n",
       "5                    19\n",
       "Residential Plot     18\n",
       "9                     8\n",
       "7                     4\n",
       "6                     2\n",
       "8                     1\n",
       "Name: Rooms, dtype: int64"
      ]
     },
     "execution_count": 208,
     "metadata": {},
     "output_type": "execute_result"
    }
   ],
   "source": [
    "data['Rooms'].value_counts()"
   ]
  },
  {
   "cell_type": "code",
   "execution_count": 209,
   "id": "1722aaa9",
   "metadata": {},
   "outputs": [
    {
     "data": {
      "text/html": [
       "<div>\n",
       "<style scoped>\n",
       "    .dataframe tbody tr th:only-of-type {\n",
       "        vertical-align: middle;\n",
       "    }\n",
       "\n",
       "    .dataframe tbody tr th {\n",
       "        vertical-align: top;\n",
       "    }\n",
       "\n",
       "    .dataframe thead th {\n",
       "        text-align: right;\n",
       "    }\n",
       "</style>\n",
       "<table border=\"1\" class=\"dataframe\">\n",
       "  <thead>\n",
       "    <tr style=\"text-align: right;\">\n",
       "      <th></th>\n",
       "      <th>Unnamed: 0</th>\n",
       "      <th>Rooms</th>\n",
       "      <th>Status</th>\n",
       "      <th>Area</th>\n",
       "      <th>Price</th>\n",
       "    </tr>\n",
       "  </thead>\n",
       "  <tbody>\n",
       "    <tr>\n",
       "      <th>0</th>\n",
       "      <td>0</td>\n",
       "      <td>3</td>\n",
       "      <td>Under Construction</td>\n",
       "      <td>3300</td>\n",
       "      <td>58800000</td>\n",
       "    </tr>\n",
       "    <tr>\n",
       "      <th>1</th>\n",
       "      <td>1</td>\n",
       "      <td>2</td>\n",
       "      <td>Ready to move</td>\n",
       "      <td>900</td>\n",
       "      <td>5000000</td>\n",
       "    </tr>\n",
       "    <tr>\n",
       "      <th>2</th>\n",
       "      <td>2</td>\n",
       "      <td>3</td>\n",
       "      <td>Under Construction</td>\n",
       "      <td>3300</td>\n",
       "      <td>58800000</td>\n",
       "    </tr>\n",
       "    <tr>\n",
       "      <th>3</th>\n",
       "      <td>3</td>\n",
       "      <td>3</td>\n",
       "      <td>Ready to move</td>\n",
       "      <td>1200</td>\n",
       "      <td>7000000</td>\n",
       "    </tr>\n",
       "    <tr>\n",
       "      <th>4</th>\n",
       "      <td>4</td>\n",
       "      <td>3</td>\n",
       "      <td>Under Construction</td>\n",
       "      <td>3300</td>\n",
       "      <td>58800000</td>\n",
       "    </tr>\n",
       "  </tbody>\n",
       "</table>\n",
       "</div>"
      ],
      "text/plain": [
       "   Unnamed: 0 Rooms              Status  Area     Price\n",
       "0           0     3  Under Construction  3300  58800000\n",
       "1           1     2       Ready to move   900   5000000\n",
       "2           2     3  Under Construction  3300  58800000\n",
       "3           3     3       Ready to move  1200   7000000\n",
       "4           4     3  Under Construction  3300  58800000"
      ]
     },
     "execution_count": 209,
     "metadata": {},
     "output_type": "execute_result"
    }
   ],
   "source": [
    "data.head()"
   ]
  },
  {
   "cell_type": "code",
   "execution_count": 210,
   "id": "5db92758",
   "metadata": {},
   "outputs": [
    {
     "data": {
      "text/plain": [
       "Unnamed: 0    0\n",
       "Rooms         0\n",
       "Status        0\n",
       "Area          0\n",
       "Price         0\n",
       "dtype: int64"
      ]
     },
     "execution_count": 210,
     "metadata": {},
     "output_type": "execute_result"
    }
   ],
   "source": [
    "data.isnull().sum()"
   ]
  },
  {
   "cell_type": "code",
   "execution_count": 211,
   "id": "21d7e5e7",
   "metadata": {
    "scrolled": true
   },
   "outputs": [
    {
     "data": {
      "text/html": [
       "<div>\n",
       "<style scoped>\n",
       "    .dataframe tbody tr th:only-of-type {\n",
       "        vertical-align: middle;\n",
       "    }\n",
       "\n",
       "    .dataframe tbody tr th {\n",
       "        vertical-align: top;\n",
       "    }\n",
       "\n",
       "    .dataframe thead th {\n",
       "        text-align: right;\n",
       "    }\n",
       "</style>\n",
       "<table border=\"1\" class=\"dataframe\">\n",
       "  <thead>\n",
       "    <tr style=\"text-align: right;\">\n",
       "      <th></th>\n",
       "      <th>Unnamed: 0</th>\n",
       "      <th>Area</th>\n",
       "      <th>Price</th>\n",
       "    </tr>\n",
       "  </thead>\n",
       "  <tbody>\n",
       "    <tr>\n",
       "      <th>count</th>\n",
       "      <td>1380.000000</td>\n",
       "      <td>1380.000000</td>\n",
       "      <td>1.380000e+03</td>\n",
       "    </tr>\n",
       "    <tr>\n",
       "      <th>mean</th>\n",
       "      <td>689.500000</td>\n",
       "      <td>1577.226812</td>\n",
       "      <td>1.992035e+07</td>\n",
       "    </tr>\n",
       "    <tr>\n",
       "      <th>std</th>\n",
       "      <td>398.515997</td>\n",
       "      <td>1059.068231</td>\n",
       "      <td>2.961527e+07</td>\n",
       "    </tr>\n",
       "    <tr>\n",
       "      <th>min</th>\n",
       "      <td>0.000000</td>\n",
       "      <td>200.000000</td>\n",
       "      <td>8.990000e+05</td>\n",
       "    </tr>\n",
       "    <tr>\n",
       "      <th>25%</th>\n",
       "      <td>344.750000</td>\n",
       "      <td>835.000000</td>\n",
       "      <td>5.000000e+06</td>\n",
       "    </tr>\n",
       "    <tr>\n",
       "      <th>50%</th>\n",
       "      <td>689.500000</td>\n",
       "      <td>1450.000000</td>\n",
       "      <td>1.550000e+07</td>\n",
       "    </tr>\n",
       "    <tr>\n",
       "      <th>75%</th>\n",
       "      <td>1034.250000</td>\n",
       "      <td>1900.000000</td>\n",
       "      <td>2.200000e+07</td>\n",
       "    </tr>\n",
       "    <tr>\n",
       "      <th>max</th>\n",
       "      <td>1379.000000</td>\n",
       "      <td>10000.000000</td>\n",
       "      <td>6.100000e+08</td>\n",
       "    </tr>\n",
       "  </tbody>\n",
       "</table>\n",
       "</div>"
      ],
      "text/plain": [
       "        Unnamed: 0          Area         Price\n",
       "count  1380.000000   1380.000000  1.380000e+03\n",
       "mean    689.500000   1577.226812  1.992035e+07\n",
       "std     398.515997   1059.068231  2.961527e+07\n",
       "min       0.000000    200.000000  8.990000e+05\n",
       "25%     344.750000    835.000000  5.000000e+06\n",
       "50%     689.500000   1450.000000  1.550000e+07\n",
       "75%    1034.250000   1900.000000  2.200000e+07\n",
       "max    1379.000000  10000.000000  6.100000e+08"
      ]
     },
     "execution_count": 211,
     "metadata": {},
     "output_type": "execute_result"
    }
   ],
   "source": [
    "data.describe()"
   ]
  },
  {
   "cell_type": "code",
   "execution_count": 212,
   "id": "dd9c9fd5",
   "metadata": {},
   "outputs": [
    {
     "data": {
      "text/plain": [
       "array(['3', '2', '4', '1', '5', '7', '9', 'Residential Plot', '6', '8'],\n",
       "      dtype=object)"
      ]
     },
     "execution_count": 212,
     "metadata": {},
     "output_type": "execute_result"
    }
   ],
   "source": [
    "data['Rooms'].unique()"
   ]
  },
  {
   "cell_type": "code",
   "execution_count": 213,
   "id": "11b01023",
   "metadata": {},
   "outputs": [
    {
     "name": "stdout",
     "output_type": "stream",
     "text": [
      "<class 'pandas.core.frame.DataFrame'>\n",
      "RangeIndex: 1380 entries, 0 to 1379\n",
      "Data columns (total 5 columns):\n",
      " #   Column      Non-Null Count  Dtype \n",
      "---  ------      --------------  ----- \n",
      " 0   Unnamed: 0  1380 non-null   int64 \n",
      " 1   Rooms       1380 non-null   object\n",
      " 2   Status      1380 non-null   object\n",
      " 3   Area        1380 non-null   int64 \n",
      " 4   Price       1380 non-null   int64 \n",
      "dtypes: int64(3), object(2)\n",
      "memory usage: 54.0+ KB\n"
     ]
    }
   ],
   "source": [
    "data.info()"
   ]
  },
  {
   "cell_type": "code",
   "execution_count": 214,
   "id": "003dee70",
   "metadata": {},
   "outputs": [
    {
     "data": {
      "text/plain": [
       "array(['3', '2', '4', '1', '5', '7', '9', '6', '8'], dtype=object)"
      ]
     },
     "execution_count": 214,
     "metadata": {},
     "output_type": "execute_result"
    }
   ],
   "source": [
    "#Removing rows with residential plots\n",
    "data = data[data['Rooms'] != 'Residential Plot']\n",
    "data['Rooms'].unique()"
   ]
  },
  {
   "cell_type": "code",
   "execution_count": 215,
   "id": "2391d56b",
   "metadata": {},
   "outputs": [
    {
     "data": {
      "text/plain": [
       "array(['Under Construction', 'Ready to move'], dtype=object)"
      ]
     },
     "execution_count": 215,
     "metadata": {},
     "output_type": "execute_result"
    }
   ],
   "source": [
    "data['Status'].unique()"
   ]
  },
  {
   "cell_type": "code",
   "execution_count": 216,
   "id": "5122fb76",
   "metadata": {},
   "outputs": [
    {
     "data": {
      "text/plain": [
       "array([ 3300,   900,  1200,   800,  1800,  1000,   500,   750,   600,\n",
       "        3000,   720,  1150,   445,  1275,   757,  2200,  1042,   810,\n",
       "         450,  1440,  3265,  1100,  1900,   972,   440,  1350,   732,\n",
       "         864,   540,  4950,   802,  1025,  4800,   803,  1450,  2045,\n",
       "         580,  1337,   700,  8640,  1365,   925,  3600,   459,   405,\n",
       "        1125,   990,   442,  2500,  2000,   550,  2600,   642,   684,\n",
       "        1152,  3150,  1500,  1650,   650,   930,   360,   960,   840,\n",
       "        1535,   585,   625,   986,   535,   675,   631,  2700,   350,\n",
       "        2900,  1250,   522,   400,  2750,  1050,  1700,  5400,   520,\n",
       "        2100,  1782,   545,   820,  3800,   850,   680,  1300,  1400,\n",
       "         950,  1375,   875,  2150,  2050,  1600,  2250,  1825,  1850,\n",
       "        2025,  1802,  1950,  1550,  2400,   635,   575,   980,   630,\n",
       "         855,  1460,  1750,  2300,  1215,  3500,   385,  4500,   660,\n",
       "         765,  1260,   495,  1575,   780,   620,   610,   640,   885,\n",
       "        1890,   945,  2800,  2620,   510,  2350,  2680,  2950,  2550,\n",
       "        2105,  2650,  2450,  1280,  2170,  1820,  3650,  1980,   915,\n",
       "        4140,  6300,  1670,  1710,  1925,   910,  1860,  7000,  1818,\n",
       "        1160,  1143,  7200,  5000,  3240,  3350,  1960,  2640,  1880,\n",
       "        2080,  1902,  2850,  2525,  1045,   858,  9000, 10000,  4000,\n",
       "        6000,   490,  2010,  1080,  3700,  1058,   200,   890,  2925,\n",
       "         740,   525,   560,   970,   905,  1370,  1821,  2520,  1238,\n",
       "         775,   530], dtype=int64)"
      ]
     },
     "execution_count": 216,
     "metadata": {},
     "output_type": "execute_result"
    }
   ],
   "source": [
    "data['Area'].unique()"
   ]
  },
  {
   "cell_type": "code",
   "execution_count": 217,
   "id": "b84b9fc7",
   "metadata": {},
   "outputs": [
    {
     "data": {
      "text/plain": [
       "array([ 58800000,   5000000,   7000000,  11500000,  30500000,   4300000,\n",
       "         2200000,   3000000,   3500000,  36000000,  14000000,   5400000,\n",
       "         4000000,  33000000,   4400000,   8499000,   3600000,  13000000,\n",
       "        27500000,   4800000,   6000000,   2300000,  65000000, 100000000,\n",
       "        25000000,   4799000,  12900000,   6200000,  62500000,   9000000,\n",
       "         3400000,  18500000,   8500000,   3100000,  12500000,   3800000,\n",
       "        15000000,  60000000,  16000000,   3499000,  22900000,   1898999,\n",
       "         7500000,   3350000,   5050000, 127500000,   8800000,  17500000,\n",
       "         5100000,  72500000,   1500000,   2900000,   1900000,  55000000,\n",
       "         5500000,   6300000,   5580000,  21000000,  23900000,   3208000,\n",
       "         4200000,  33500000,  11000000,   2500000,   6500000,  61500000,\n",
       "         3200000,  20500000,   5700000,   4600000,   2150000,   5800000,\n",
       "         1800000,  11100000,  35000000,  28000000,  18000000,  20000000,\n",
       "         1100000,   1850000,   8000000,  10000000,   3575000,   2650000,\n",
       "         2600000,  75000000,  12400000,  15500000,   2800000,   5250000,\n",
       "         4100000,  31000000,   8350000,  14500000,   5200000,  14900000,\n",
       "        13799999,  30000000,   2850000,   3799000,   9800000,   2100000,\n",
       "        26000000,  12800000,   8700000,  42000000,   1950000,   8200000,\n",
       "        23500000,  16500000,   4761000,   2750000,   2675000,   8600000,\n",
       "         9700000,   9500000,  16200000,  10200000,   7600000,   9850000,\n",
       "        16600000,  44000000,   5125000,   5951000,   7211000,   3871000,\n",
       "         2775000,   4361000, 190000000,   1721000,   4561000,   4110000,\n",
       "         1600000,   2700000,   2780000,   5120000,   4421000,   3851000,\n",
       "        38500000,  36500000,  26500000,  40000000,  41500000,  24000000,\n",
       "        47500000,  43500000,  45000000,  42500000,  32500000,  52500000,\n",
       "        28500000,  37500000,  18600000,  12200000,   7800000,  45500000,\n",
       "         9200000,  25099999,   2531000,   3551000,  19200000,  26300000,\n",
       "        21900000,  25400000,  28100000,  22400000,  17600000,  21100000,\n",
       "        17200000,  17700000,  22300000,  29000000,  17900000,  39500000,\n",
       "        17800000,  17000000,  64500000,  32000000,  22100000,  21500000,\n",
       "        20900000,   2651000,   2471000,  39000000,   5411000,   7450000,\n",
       "        24500000,  12000000,   3290000,   3550000,   3900000,   2000000,\n",
       "        22500000,  19500000,  20299999,  19900000,  24200000,  13500000,\n",
       "        23000000,  15800000,  10500000, 120000000,   7100000,  31500000,\n",
       "         4500000,  25500000,  24700000,   4011000,   3611000,   3211000,\n",
       "         3011000,  17400000,  27900000,  18400000,  17100000,  20700000,\n",
       "        19000000, 180000000,   2511000,  22000000,   6700000,  34000000,\n",
       "        35500000,  17300000,   3300000,   5850000,   4900000,  16800000,\n",
       "         4700000,  10800000,   7700000,   9300000,  10300000,   6600000,\n",
       "         9100000,   7200000,   6400000,   6900000,   5300000,   2400000,\n",
       "        42100000,  10100000,  20099999,  23800000,   5600000,   3950000,\n",
       "         3190000,   3220000,   3210000,   3225000,   2599000,  16399999,\n",
       "        15600000,  15300000,  21800000,   7400000,  26400000,  15200000,\n",
       "         5650000,   3700000,   2950000,   2450000,  15700000,  27000000,\n",
       "        19800000,  22200000,  24800000,  20200000,  16299999,  36900000,\n",
       "        25200000,  14200000,  74000000, 135000000, 130000000,  19400000,\n",
       "        13100000,  80000000, 114500000, 156500000,  91500000,  91000000,\n",
       "        90000000, 135100000, 172600000,  52000000,  18100000,  18300000,\n",
       "        16900000,  23200000,  12600000,  18200000,  24900000,  15900000,\n",
       "        92000000,  25900000,  34500000,  32100000, 202500000, 108000000,\n",
       "        89000000,  70000000, 154500000, 182500000,  92500000, 610000000,\n",
       "        85000000,  86000000,  94500000, 153300000, 142200000,  95000000,\n",
       "         6559999,  18800000,  14100000,  50000000, 105000000, 135600000,\n",
       "       137500000,  97500000, 145400000, 141200000,  97600000,   5051000,\n",
       "        16700000,  19700000,   1000000,  54000000,  20600000,   1450000,\n",
       "         1400000,   8400000,   2385000,   2325000,  24100000,   3649000,\n",
       "         4599000,   3599000,   3999000,   4850000,   4860000,  27300000,\n",
       "        13200000,   2025000,   2350000,   2360000,   3449000,   2475000,\n",
       "         1975000,   6800000,   3750000,  15100000,   5231000,   3525000,\n",
       "        20800000,   2490000,   2421000,   2540000,   2275000,   2550000,\n",
       "         2050000,   3460000,   3450000], dtype=int64)"
      ]
     },
     "execution_count": 217,
     "metadata": {},
     "output_type": "execute_result"
    }
   ],
   "source": [
    "data['Price'].unique()"
   ]
  },
  {
   "cell_type": "code",
   "execution_count": 218,
   "id": "ce5ad81e",
   "metadata": {},
   "outputs": [],
   "source": [
    "data = data.drop(columns = 'Unnamed: 0')"
   ]
  },
  {
   "cell_type": "code",
   "execution_count": 219,
   "id": "c6f38671",
   "metadata": {},
   "outputs": [
    {
     "data": {
      "text/plain": [
       "Index(['Rooms', 'Status', 'Area', 'Price'], dtype='object')"
      ]
     },
     "execution_count": 219,
     "metadata": {},
     "output_type": "execute_result"
    }
   ],
   "source": [
    "data.columns"
   ]
  },
  {
   "cell_type": "code",
   "execution_count": 220,
   "id": "d5cefd9b",
   "metadata": {},
   "outputs": [],
   "source": [
    "from sklearn.preprocessing import LabelEncoder\n",
    "enc = LabelEncoder()\n",
    "\n",
    "data['Status'] = enc.fit_transform(data['Status'])"
   ]
  },
  {
   "cell_type": "code",
   "execution_count": 221,
   "id": "f8817f1a",
   "metadata": {},
   "outputs": [],
   "source": [
    "data[\"Rooms\"] = data['Rooms'].astype('int32')"
   ]
  },
  {
   "cell_type": "code",
   "execution_count": 204,
   "id": "b9f20789",
   "metadata": {},
   "outputs": [
    {
     "name": "stdout",
     "output_type": "stream",
     "text": [
      "<class 'pandas.core.frame.DataFrame'>\n",
      "Int64Index: 1362 entries, 0 to 1379\n",
      "Data columns (total 4 columns):\n",
      " #   Column  Non-Null Count  Dtype\n",
      "---  ------  --------------  -----\n",
      " 0   Rooms   1362 non-null   int32\n",
      " 1   Status  1362 non-null   int32\n",
      " 2   Area    1362 non-null   int64\n",
      " 3   Price   1362 non-null   int64\n",
      "dtypes: int32(2), int64(2)\n",
      "memory usage: 42.6 KB\n"
     ]
    }
   ],
   "source": [
    "data.info()"
   ]
  },
  {
   "cell_type": "code",
   "execution_count": 222,
   "id": "91492cc8",
   "metadata": {},
   "outputs": [
    {
     "data": {
      "text/html": [
       "<div>\n",
       "<style scoped>\n",
       "    .dataframe tbody tr th:only-of-type {\n",
       "        vertical-align: middle;\n",
       "    }\n",
       "\n",
       "    .dataframe tbody tr th {\n",
       "        vertical-align: top;\n",
       "    }\n",
       "\n",
       "    .dataframe thead th {\n",
       "        text-align: right;\n",
       "    }\n",
       "</style>\n",
       "<table border=\"1\" class=\"dataframe\">\n",
       "  <thead>\n",
       "    <tr style=\"text-align: right;\">\n",
       "      <th></th>\n",
       "      <th>Rooms</th>\n",
       "      <th>Status</th>\n",
       "      <th>Area</th>\n",
       "      <th>Price</th>\n",
       "    </tr>\n",
       "  </thead>\n",
       "  <tbody>\n",
       "    <tr>\n",
       "      <th>0</th>\n",
       "      <td>3</td>\n",
       "      <td>1</td>\n",
       "      <td>3300</td>\n",
       "      <td>58800000</td>\n",
       "    </tr>\n",
       "    <tr>\n",
       "      <th>1</th>\n",
       "      <td>2</td>\n",
       "      <td>0</td>\n",
       "      <td>900</td>\n",
       "      <td>5000000</td>\n",
       "    </tr>\n",
       "    <tr>\n",
       "      <th>2</th>\n",
       "      <td>3</td>\n",
       "      <td>1</td>\n",
       "      <td>3300</td>\n",
       "      <td>58800000</td>\n",
       "    </tr>\n",
       "    <tr>\n",
       "      <th>3</th>\n",
       "      <td>3</td>\n",
       "      <td>0</td>\n",
       "      <td>1200</td>\n",
       "      <td>7000000</td>\n",
       "    </tr>\n",
       "    <tr>\n",
       "      <th>4</th>\n",
       "      <td>3</td>\n",
       "      <td>1</td>\n",
       "      <td>3300</td>\n",
       "      <td>58800000</td>\n",
       "    </tr>\n",
       "    <tr>\n",
       "      <th>...</th>\n",
       "      <td>...</td>\n",
       "      <td>...</td>\n",
       "      <td>...</td>\n",
       "      <td>...</td>\n",
       "    </tr>\n",
       "    <tr>\n",
       "      <th>1375</th>\n",
       "      <td>3</td>\n",
       "      <td>0</td>\n",
       "      <td>775</td>\n",
       "      <td>3450000</td>\n",
       "    </tr>\n",
       "    <tr>\n",
       "      <th>1376</th>\n",
       "      <td>2</td>\n",
       "      <td>0</td>\n",
       "      <td>540</td>\n",
       "      <td>2100000</td>\n",
       "    </tr>\n",
       "    <tr>\n",
       "      <th>1377</th>\n",
       "      <td>2</td>\n",
       "      <td>0</td>\n",
       "      <td>600</td>\n",
       "      <td>2850000</td>\n",
       "    </tr>\n",
       "    <tr>\n",
       "      <th>1378</th>\n",
       "      <td>2</td>\n",
       "      <td>0</td>\n",
       "      <td>550</td>\n",
       "      <td>2300000</td>\n",
       "    </tr>\n",
       "    <tr>\n",
       "      <th>1379</th>\n",
       "      <td>2</td>\n",
       "      <td>0</td>\n",
       "      <td>530</td>\n",
       "      <td>2150000</td>\n",
       "    </tr>\n",
       "  </tbody>\n",
       "</table>\n",
       "<p>1362 rows × 4 columns</p>\n",
       "</div>"
      ],
      "text/plain": [
       "      Rooms  Status  Area     Price\n",
       "0         3       1  3300  58800000\n",
       "1         2       0   900   5000000\n",
       "2         3       1  3300  58800000\n",
       "3         3       0  1200   7000000\n",
       "4         3       1  3300  58800000\n",
       "...     ...     ...   ...       ...\n",
       "1375      3       0   775   3450000\n",
       "1376      2       0   540   2100000\n",
       "1377      2       0   600   2850000\n",
       "1378      2       0   550   2300000\n",
       "1379      2       0   530   2150000\n",
       "\n",
       "[1362 rows x 4 columns]"
      ]
     },
     "execution_count": 222,
     "metadata": {},
     "output_type": "execute_result"
    }
   ],
   "source": [
    "data"
   ]
  },
  {
   "cell_type": "code",
   "execution_count": 205,
   "id": "2c945301",
   "metadata": {},
   "outputs": [],
   "source": [
    "data.to_csv('CleanedData.csv')"
   ]
  },
  {
   "cell_type": "markdown",
   "id": "29da8da6",
   "metadata": {},
   "source": [
    "# MODEL BUILDING"
   ]
  },
  {
   "cell_type": "code",
   "execution_count": 110,
   "id": "74fbead9",
   "metadata": {},
   "outputs": [],
   "source": [
    "X = data.drop(columns = 'Price')\n",
    "y = data['Price']"
   ]
  },
  {
   "cell_type": "code",
   "execution_count": 231,
   "id": "5b42d281",
   "metadata": {},
   "outputs": [
    {
     "data": {
      "text/plain": [
       "26"
      ]
     },
     "execution_count": 231,
     "metadata": {},
     "output_type": "execute_result"
    }
   ],
   "source": [
    "from sklearn.model_selection import train_test_split\n",
    "from sklearn.linear_model import LinearRegression\n",
    "from sklearn.metrics import r2_score\n",
    "score = []\n",
    "for i in range(1,50):\n",
    "    X_train,X_test,y_train,y_test = train_test_split(X,y,test_size=0.2,random_state = i)\n",
    "    model =  LinearRegression()\n",
    "    reg = model.fit(X_train, y_train)\n",
    "    y_pred = model.predict(X_test)   \n",
    "    score.append(r2_score(y_test,y_pred))\n",
    "random_value = score.index(max(score)) + 1\n",
    "random_value"
   ]
  },
  {
   "cell_type": "code",
   "execution_count": 232,
   "id": "46b7e0b0",
   "metadata": {},
   "outputs": [
    {
     "name": "stderr",
     "output_type": "stream",
     "text": [
      "C:\\Users\\Sriya\\AppData\\Local\\Programs\\Python\\Python310\\lib\\site-packages\\sklearn\\base.py:420: UserWarning: X does not have valid feature names, but LinearRegression was fitted with feature names\n",
      "  warnings.warn(\n"
     ]
    },
    {
     "data": {
      "text/plain": [
       "66649150.90395373"
      ]
     },
     "execution_count": 232,
     "metadata": {},
     "output_type": "execute_result"
    }
   ],
   "source": [
    "X_train,X_test,y_train,y_test = train_test_split(X,y,test_size=0.2,random_state = random_value)\n",
    "model =  LinearRegression()\n",
    "reg = model.fit(X_train, y_train)\n",
    "y_pred = model.predict(X_test)\n",
    "r2_score(y_test,y_pred)\n",
    "model.predict([[3,0,3300]])[0]"
   ]
  },
  {
   "cell_type": "raw",
   "id": "6a4e814b",
   "metadata": {},
   "source": [
    "Decision Tree Algorithm"
   ]
  },
  {
   "cell_type": "code",
   "execution_count": 88,
   "id": "87d084a4",
   "metadata": {},
   "outputs": [
    {
     "data": {
      "text/plain": [
       "0.1588268845670351"
      ]
     },
     "execution_count": 88,
     "metadata": {},
     "output_type": "execute_result"
    }
   ],
   "source": [
    "'''from sklearn.tree import DecisionTreeClassifier\n",
    "clf = DecisionTreeClassifier(max_depth=3)\n",
    "clf.fit(X_train, y_train)\n",
    "y_pred_d = clf.predict(X_test)\n",
    "r2_score(y_test,y_pred_d)'''"
   ]
  },
  {
   "cell_type": "raw",
   "id": "51d9fc14",
   "metadata": {},
   "source": [
    "XG Boost"
   ]
  },
  {
   "cell_type": "code",
   "execution_count": 113,
   "id": "46d3c2f2",
   "metadata": {},
   "outputs": [],
   "source": [
    "#import xgboost as xgb\n",
    "#from sklearn.metrics import mean_squared_error"
   ]
  },
  {
   "cell_type": "code",
   "execution_count": 127,
   "id": "c1b33d6c",
   "metadata": {},
   "outputs": [],
   "source": [
    "# Create a DMatrix for XGBoost to use\n",
    "#dtrain = xgb.DMatrix(X_train, label=y_train)\n",
    "#dtest = xgb.DMatrix(X_test, label=y_test)"
   ]
  },
  {
   "cell_type": "code",
   "execution_count": 133,
   "id": "719c347b",
   "metadata": {},
   "outputs": [],
   "source": [
    "# Set the XGBoost parameters\n",
    "#params = {\n",
    "#    \"max_depth\": 3,\n",
    "#    \"eta\": 0.1,\n",
    "#    \"objective\": \"reg:squarederror\",\n",
    "#    \"eval_metric\": \"rmse\"\n",
    "#}"
   ]
  },
  {
   "cell_type": "code",
   "execution_count": 116,
   "id": "f18c0ef8",
   "metadata": {},
   "outputs": [],
   "source": [
    "# Train the XGBoost model\n",
    "#num_rounds = 100\n",
    "#model = xgb.train(params, dtrain, num_rounds)"
   ]
  },
  {
   "cell_type": "code",
   "execution_count": 134,
   "id": "e5e77f21",
   "metadata": {},
   "outputs": [],
   "source": [
    "# Make predictions on the testing data\n",
    "#y_pred_xg = model.predict(dtest)\n",
    "\n",
    "# Calculate the r2_score of the predictions\n",
    "#r2_score(y_test, y_pred_xg)"
   ]
  },
  {
   "cell_type": "code",
   "execution_count": 122,
   "id": "44ba128a",
   "metadata": {},
   "outputs": [
    {
     "data": {
      "text/plain": [
       "0.1143358731085865"
      ]
     },
     "execution_count": 122,
     "metadata": {},
     "output_type": "execute_result"
    }
   ],
   "source": [
    "'''from sklearn.ensemble import RandomForestClassifier\n",
    "rfc = RandomForestClassifier(max_depth=2, random_state=0)\n",
    "rfc.fit(X_train, y_train)\n",
    "y_pred = rfc.predict(X_test)\n",
    "r2_score(y_test,y_pred)'''"
   ]
  },
  {
   "cell_type": "code",
   "execution_count": 185,
   "id": "c52fcaa5",
   "metadata": {},
   "outputs": [],
   "source": [
    "import pickle\n",
    "pickle.dump(model,open('LinearRegressionModel.pkl','wb'))"
   ]
  },
  {
   "cell_type": "code",
   "execution_count": null,
   "id": "1aca9477",
   "metadata": {},
   "outputs": [],
   "source": []
  }
 ],
 "metadata": {
  "kernelspec": {
   "display_name": "Python 3 (ipykernel)",
   "language": "python",
   "name": "python3"
  },
  "language_info": {
   "codemirror_mode": {
    "name": "ipython",
    "version": 3
   },
   "file_extension": ".py",
   "mimetype": "text/x-python",
   "name": "python",
   "nbconvert_exporter": "python",
   "pygments_lexer": "ipython3",
   "version": "3.10.7"
  }
 },
 "nbformat": 4,
 "nbformat_minor": 5
}
