{
 "cells": [
  {
   "cell_type": "code",
   "execution_count": 46,
   "id": "09cfd42f",
   "metadata": {},
   "outputs": [],
   "source": [
    "import requests\n",
    "from bs4 import BeautifulSoup\n",
    "import re\n",
    "import pandas as pd"
   ]
  },
  {
   "cell_type": "code",
   "execution_count": 2,
   "id": "8ad21b15",
   "metadata": {},
   "outputs": [],
   "source": [
    "url = \"https://www.makaan.com/delhi-residential-property/buy-property-in-delhi-city\""
   ]
  },
  {
   "cell_type": "code",
   "execution_count": 3,
   "id": "e24ef3c4",
   "metadata": {},
   "outputs": [
    {
     "data": {
      "text/plain": [
       "<Response [200]>"
      ]
     },
     "execution_count": 3,
     "metadata": {},
     "output_type": "execute_result"
    }
   ],
   "source": [
    "response = requests.get(url)\n",
    "response"
   ]
  },
  {
   "cell_type": "code",
   "execution_count": 4,
   "id": "cc6b6d0d",
   "metadata": {},
   "outputs": [],
   "source": [
    "soup = BeautifulSoup(response.content, 'html.parser')"
   ]
  },
  {
   "cell_type": "raw",
   "id": "8301973c",
   "metadata": {},
   "source": [
    "ROOMS"
   ]
  },
  {
   "cell_type": "code",
   "execution_count": 5,
   "id": "1cac865d",
   "metadata": {},
   "outputs": [],
   "source": [
    "a = soup.find_all('a',attrs={'class':'typelink'})\n",
    "rooms = []\n",
    "for i in a:\n",
    "    rooms.append(i.span.text.strip())"
   ]
  },
  {
   "cell_type": "code",
   "execution_count": null,
   "id": "056332b0",
   "metadata": {},
   "outputs": [],
   "source": [
    "AREA"
   ]
  },
  {
   "cell_type": "code",
   "execution_count": 43,
   "id": "d49a6a7e",
   "metadata": {},
   "outputs": [
    {
     "data": {
      "text/plain": [
       "['3300',\n",
       " '900',\n",
       " '3300',\n",
       " '1200',\n",
       " '3300',\n",
       " '800',\n",
       " '900',\n",
       " '1800',\n",
       " '1000',\n",
       " '500',\n",
       " '750',\n",
       " '600',\n",
       " '3000',\n",
       " '900',\n",
       " '600',\n",
       " '1000',\n",
       " '1200',\n",
       " '720',\n",
       " '1150',\n",
       " '445']"
      ]
     },
     "execution_count": 43,
     "metadata": {},
     "output_type": "execute_result"
    }
   ],
   "source": [
    "b = soup.find_all('td',attrs={'class':'size'})\n",
    "area = []\n",
    "for i in b:\n",
    "    area.append(i.text.strip())\n",
    "area"
   ]
  },
  {
   "cell_type": "raw",
   "id": "894478f9",
   "metadata": {},
   "source": [
    "CONSTRUCTION STATUS"
   ]
  },
  {
   "cell_type": "code",
   "execution_count": 20,
   "id": "a5bdedd9",
   "metadata": {
    "scrolled": true
   },
   "outputs": [
    {
     "data": {
      "text/plain": [
       "['Under Construction',\n",
       " 'Ready to move',\n",
       " 'Under Construction',\n",
       " 'Ready to move',\n",
       " 'Under Construction',\n",
       " 'Ready to move',\n",
       " 'Ready to move',\n",
       " 'Ready to move',\n",
       " 'Ready to move',\n",
       " 'Ready to move',\n",
       " 'Ready to move',\n",
       " 'Ready to move',\n",
       " 'Ready to move',\n",
       " 'Ready to move',\n",
       " 'Ready to move',\n",
       " 'Ready to move',\n",
       " 'Ready to move',\n",
       " 'Ready to move',\n",
       " 'Ready to move',\n",
       " 'Ready to move']"
      ]
     },
     "execution_count": 20,
     "metadata": {},
     "output_type": "execute_result"
    }
   ],
   "source": [
    "c = soup.find_all('td',attrs={'class':'val'})\n",
    "status = []\n",
    "for i in c:\n",
    "    status.append(i.text)\n",
    "status"
   ]
  },
  {
   "cell_type": "raw",
   "id": "f76b73ca",
   "metadata": {},
   "source": [
    "PRICE"
   ]
  },
  {
   "cell_type": "code",
   "execution_count": 35,
   "id": "f262bbbb",
   "metadata": {},
   "outputs": [
    {
     "data": {
      "text/plain": [
       "[58800000,\n",
       " 5000000,\n",
       " 58800000,\n",
       " 7000000,\n",
       " 58800000,\n",
       " 5000000,\n",
       " 11500000,\n",
       " 30500000,\n",
       " 4300000,\n",
       " 2200000,\n",
       " 3000000,\n",
       " 3500000,\n",
       " 36000000,\n",
       " 14000000,\n",
       " 5400000,\n",
       " 4000000,\n",
       " 33000000,\n",
       " 4400000,\n",
       " 8499000,\n",
       " 3600000]"
      ]
     },
     "execution_count": 35,
     "metadata": {},
     "output_type": "execute_result"
    }
   ],
   "source": [
    "d = soup.find_all('div',attrs={'data-type':'price-link'})\n",
    "price = []\n",
    "for i in d:\n",
    "    units = re.sub('[^a-zA-Z]', '', i.text)\n",
    "    p = i.text\n",
    "    if units=='Cr':\n",
    "        p = p.replace('Cr','')\n",
    "        p = float(p)*10000000\n",
    "    elif units=='L':\n",
    "        p = p.replace('L','')\n",
    "        p = float(p)*100000\n",
    "    price.append(int(p))\n",
    "price"
   ]
  },
  {
   "cell_type": "code",
   "execution_count": 53,
   "id": "6b20de7c",
   "metadata": {},
   "outputs": [],
   "source": [
    "import re\n",
    "base_url = 'https://www.makaan.com/delhi-residential-property/buy-property-in-delhi-city?_=1680000823263&page='\n",
    "rooms = []\n",
    "area = []\n",
    "status = []\n",
    "price = []\n",
    "\n",
    "\n",
    "\n",
    "\n",
    "for i in range(1,70):\n",
    "    url = base_url+str(i)\n",
    "    response = requests.get(url)\n",
    "    soup = BeautifulSoup(response.content, 'html.parser')\n",
    "    \n",
    "    #rooms\n",
    "    a = soup.find_all('a',attrs={'class':'typelink'})\n",
    "    for i in a:\n",
    "        rooms.append(i.span.text.strip())\n",
    "    \n",
    "    #area\n",
    "    b = soup.find_all('td',attrs={'class':'size'})\n",
    "    for i in b:\n",
    "        area.append(i.text.strip())\n",
    "    \n",
    "    #construction status\n",
    "    c = soup.find_all('td',attrs={'class':'val'})\n",
    "    for i in c:\n",
    "        status.append(i.text)\n",
    "        \n",
    "    #price      \n",
    "    d = soup.find_all('div',attrs={'data-type':'price-link'})\n",
    "    for i in d:\n",
    "        units = re.sub('[^a-zA-Z]', '', i.text)\n",
    "        p = i.text\n",
    "        if units=='Cr':\n",
    "            p = p.replace('Cr','')\n",
    "            p = float(p)*10000000\n",
    "        elif units=='L':\n",
    "            p = p.replace('L','')\n",
    "            p = float(p)*100000\n",
    "        price.append(int(p))\n",
    "\n",
    "    "
   ]
  },
  {
   "cell_type": "code",
   "execution_count": 54,
   "id": "e2b06b7b",
   "metadata": {},
   "outputs": [],
   "source": [
    "data = pd.DataFrame({'Rooms':rooms, 'Status': status, 'Area': area, 'Price': price})"
   ]
  },
  {
   "cell_type": "code",
   "execution_count": 55,
   "id": "8ff3ced9",
   "metadata": {},
   "outputs": [
    {
     "data": {
      "text/html": [
       "<div>\n",
       "<style scoped>\n",
       "    .dataframe tbody tr th:only-of-type {\n",
       "        vertical-align: middle;\n",
       "    }\n",
       "\n",
       "    .dataframe tbody tr th {\n",
       "        vertical-align: top;\n",
       "    }\n",
       "\n",
       "    .dataframe thead th {\n",
       "        text-align: right;\n",
       "    }\n",
       "</style>\n",
       "<table border=\"1\" class=\"dataframe\">\n",
       "  <thead>\n",
       "    <tr style=\"text-align: right;\">\n",
       "      <th></th>\n",
       "      <th>Rooms</th>\n",
       "      <th>Status</th>\n",
       "      <th>Area</th>\n",
       "      <th>Price</th>\n",
       "    </tr>\n",
       "  </thead>\n",
       "  <tbody>\n",
       "    <tr>\n",
       "      <th>0</th>\n",
       "      <td>3</td>\n",
       "      <td>Under Construction</td>\n",
       "      <td>3300</td>\n",
       "      <td>58800000</td>\n",
       "    </tr>\n",
       "    <tr>\n",
       "      <th>1</th>\n",
       "      <td>2</td>\n",
       "      <td>Ready to move</td>\n",
       "      <td>900</td>\n",
       "      <td>5000000</td>\n",
       "    </tr>\n",
       "    <tr>\n",
       "      <th>2</th>\n",
       "      <td>3</td>\n",
       "      <td>Under Construction</td>\n",
       "      <td>3300</td>\n",
       "      <td>58800000</td>\n",
       "    </tr>\n",
       "    <tr>\n",
       "      <th>3</th>\n",
       "      <td>3</td>\n",
       "      <td>Ready to move</td>\n",
       "      <td>1200</td>\n",
       "      <td>7000000</td>\n",
       "    </tr>\n",
       "    <tr>\n",
       "      <th>4</th>\n",
       "      <td>3</td>\n",
       "      <td>Under Construction</td>\n",
       "      <td>3300</td>\n",
       "      <td>58800000</td>\n",
       "    </tr>\n",
       "    <tr>\n",
       "      <th>...</th>\n",
       "      <td>...</td>\n",
       "      <td>...</td>\n",
       "      <td>...</td>\n",
       "      <td>...</td>\n",
       "    </tr>\n",
       "    <tr>\n",
       "      <th>1375</th>\n",
       "      <td>3</td>\n",
       "      <td>Ready to move</td>\n",
       "      <td>775</td>\n",
       "      <td>3450000</td>\n",
       "    </tr>\n",
       "    <tr>\n",
       "      <th>1376</th>\n",
       "      <td>2</td>\n",
       "      <td>Ready to move</td>\n",
       "      <td>540</td>\n",
       "      <td>2100000</td>\n",
       "    </tr>\n",
       "    <tr>\n",
       "      <th>1377</th>\n",
       "      <td>2</td>\n",
       "      <td>Ready to move</td>\n",
       "      <td>600</td>\n",
       "      <td>2850000</td>\n",
       "    </tr>\n",
       "    <tr>\n",
       "      <th>1378</th>\n",
       "      <td>2</td>\n",
       "      <td>Ready to move</td>\n",
       "      <td>550</td>\n",
       "      <td>2300000</td>\n",
       "    </tr>\n",
       "    <tr>\n",
       "      <th>1379</th>\n",
       "      <td>2</td>\n",
       "      <td>Ready to move</td>\n",
       "      <td>530</td>\n",
       "      <td>2150000</td>\n",
       "    </tr>\n",
       "  </tbody>\n",
       "</table>\n",
       "<p>1380 rows × 4 columns</p>\n",
       "</div>"
      ],
      "text/plain": [
       "     Rooms              Status  Area     Price\n",
       "0        3  Under Construction  3300  58800000\n",
       "1        2       Ready to move   900   5000000\n",
       "2        3  Under Construction  3300  58800000\n",
       "3        3       Ready to move  1200   7000000\n",
       "4        3  Under Construction  3300  58800000\n",
       "...    ...                 ...   ...       ...\n",
       "1375     3       Ready to move   775   3450000\n",
       "1376     2       Ready to move   540   2100000\n",
       "1377     2       Ready to move   600   2850000\n",
       "1378     2       Ready to move   550   2300000\n",
       "1379     2       Ready to move   530   2150000\n",
       "\n",
       "[1380 rows x 4 columns]"
      ]
     },
     "execution_count": 55,
     "metadata": {},
     "output_type": "execute_result"
    }
   ],
   "source": [
    "data"
   ]
  },
  {
   "cell_type": "code",
   "execution_count": 56,
   "id": "07d7b1f5",
   "metadata": {},
   "outputs": [],
   "source": [
    "data.to_csv('delhi_houses.csv')"
   ]
  },
  {
   "cell_type": "code",
   "execution_count": null,
   "id": "184efad0",
   "metadata": {},
   "outputs": [],
   "source": []
  }
 ],
 "metadata": {
  "kernelspec": {
   "display_name": "Python 3 (ipykernel)",
   "language": "python",
   "name": "python3"
  },
  "language_info": {
   "codemirror_mode": {
    "name": "ipython",
    "version": 3
   },
   "file_extension": ".py",
   "mimetype": "text/x-python",
   "name": "python",
   "nbconvert_exporter": "python",
   "pygments_lexer": "ipython3",
   "version": "3.10.7"
  }
 },
 "nbformat": 4,
 "nbformat_minor": 5
}
